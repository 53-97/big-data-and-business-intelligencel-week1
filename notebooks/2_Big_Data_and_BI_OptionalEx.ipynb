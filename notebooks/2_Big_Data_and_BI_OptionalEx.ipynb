{
 "cells": [
  {
   "cell_type": "markdown",
   "id": "016c77c2",
   "metadata": {},
   "source": [
    "# Big Data & BI – Optional Intro Notebook\n",
    "\n",
    "**Topic:** Data, EDA"
   ]
  },
  {
   "cell_type": "markdown",
   "id": "bfecc6c9",
   "metadata": {},
   "source": [
    "\n",
    "## Learning Objectives\n",
    "By the end, you can:\n",
    "- Download a real dataset from the open source projects.\n",
    "- Evaluate a list of **KPIs**.\n",
    "- Run simple analysis.\n"
   ]
  },
  {
   "cell_type": "markdown",
   "id": "5b99466c",
   "metadata": {},
   "source": [
    "- Open \"https://dataverse.harvard.edu/dataset.xhtml?persistentId=doi:10.7910/DVN/GTNEJD\"\n",
    "- Download peoplesun_hh_anon.tab as csv (comma seperated valaues).\n",
    "- Files named peoplesun_hh_odk_codebook.xlsx and peoplesun_hh_odk_choices.xlsx are also needed to decode the questions and answers.\n",
    "- Place it in your data folder"
   ]
  },
  {
   "cell_type": "markdown",
   "id": "2253d19e",
   "metadata": {},
   "source": [
    "## Key Performance Indicators (KPIs)\n",
    "\n",
    "### KPI 1 — Electrification Rate (%)\n",
    "**Definition:** Percentage of households with any access to electricity (grid or off-grid like solar/generator).  \n",
    "**Formula:** Electrification Rate = (Households_with_electricity / Total_households) * 100  \n",
    "**Purpose:** Measures extent of access.\n",
    "\n",
    "---\n",
    "\n",
    "### KPI 2 — Supply Reliability (Outages or Hours Without Power)\n",
    "**Definition:** Average number of power outages per week OR hours without power per day among connected households.  \n",
    "**Formula (example):** Avg_outages_per_week = SUM(outages_per_week) / N_connected_households  \n",
    "**Purpose:** Captures quality/stability of supply.\n",
    "\n",
    "---\n",
    "\n",
    "### KPI 3 — Energy Burden (%)\n",
    "**Definition:** Average share of monthly household spending (or income) devoted to electricity expenses.  \n",
    "**Formula:** Energy_Burden = (Electricity_expenditure / Total_expenditure_or_income) * 100  \n",
    "**Purpose:** Assesses affordability.\n"
   ]
  },
  {
   "cell_type": "markdown",
   "id": "959fbe03",
   "metadata": {},
   "source": [
    "## 1) Setup & load"
   ]
  },
  {
   "cell_type": "code",
   "execution_count": null,
   "id": "0a61e1ca",
   "metadata": {},
   "outputs": [],
   "source": [
    "# --- setup ---\n",
    "import pandas as pd\n",
    "import numpy as np\n",
    "import re\n",
    "from pathlib import Path\n",
    "\n",
    "DATA_PATH = Path(\"../data/peoplesun_hh_anon.csv\")  # students: place file here\n",
    "\n",
    "# Helpful options\n",
    "pd.set_option(\"display.max_colwidth\", 120)\n",
    "pd.set_option(\"display.max_columns\", 120)\n",
    "\n",
    "# --- load ---\n",
    "# If the CSV has a different delimiter, change sep=\",\" accordingly.\n",
    "df = pd.read_csv(DATA_PATH, sep=\",\", low_memory=False)\n",
    "\n",
    "print(\"Rows:\", len(df))\n",
    "df.head()\n"
   ]
  },
  {
   "cell_type": "markdown",
   "id": "a659a97c",
   "metadata": {},
   "source": [
    "## 2) Quick EDA (Exploratory Data Analysis)"
   ]
  },
  {
   "cell_type": "code",
   "execution_count": null,
   "id": "e4791237",
   "metadata": {},
   "outputs": [],
   "source": [
    "# --- explore ---"
   ]
  },
  {
   "cell_type": "markdown",
   "id": "564db272",
   "metadata": {},
   "source": [
    "## 3) KPI 1 — Electrification Rate (%)"
   ]
  },
  {
   "cell_type": "code",
   "execution_count": null,
   "id": "14c88d64",
   "metadata": {},
   "outputs": [],
   "source": [
    "# --- explore ---"
   ]
  },
  {
   "cell_type": "markdown",
   "id": "f2094910",
   "metadata": {},
   "source": [
    "## 4) KPI 2 — Reliability (choose the best available)"
   ]
  },
  {
   "cell_type": "code",
   "execution_count": null,
   "id": "a936e003",
   "metadata": {},
   "outputs": [],
   "source": [
    "# --- explore ---"
   ]
  },
  {
   "cell_type": "markdown",
   "id": "b78b8460",
   "metadata": {},
   "source": [
    "## 5) KPI 3 — Energy Burden (% of total monthly expenditure or income)"
   ]
  },
  {
   "cell_type": "code",
   "execution_count": null,
   "id": "f5bfcda3",
   "metadata": {},
   "outputs": [],
   "source": [
    "# --- explore ---"
   ]
  },
  {
   "cell_type": "code",
   "execution_count": null,
   "id": "b3cd3ce5",
   "metadata": {},
   "outputs": [],
   "source": []
  }
 ],
 "metadata": {
  "kernelspec": {
   "display_name": "3.11.3",
   "language": "python",
   "name": "python3"
  },
  "language_info": {
   "codemirror_mode": {
    "name": "ipython",
    "version": 3
   },
   "file_extension": ".py",
   "mimetype": "text/x-python",
   "name": "python",
   "nbconvert_exporter": "python",
   "pygments_lexer": "ipython3",
   "version": "3.11.3"
  }
 },
 "nbformat": 4,
 "nbformat_minor": 5
}
